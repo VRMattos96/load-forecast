{
 "cells": [
  {
   "cell_type": "code",
   "execution_count": 1,
   "metadata": {},
   "outputs": [],
   "source": [
    "import pandas as pd\n",
    "import numpy as np\n",
    "import os\n"
   ]
  },
  {
   "cell_type": "code",
   "execution_count": 2,
   "metadata": {},
   "outputs": [],
   "source": [
    "def temperature_extraction(path:str,years:list)-> pd.DataFrame:\n",
    "    \n",
    "    dataframe_list = []\n",
    "\n",
    "    for year in years:\n",
    "        print(\"-------------------------------------------------------------------------------------------\")\n",
    "        print(f'Reading data from year {year}')\n",
    "        print(\"-------------------------------------------------------------------------------------------\")\n",
    "        temperature_path = os.path.join(path,str(year))\n",
    "\n",
    "        temperature_files = [file for file in os.listdir(temperature_path) if os.path.isfile(os.path.join(temperature_path,file))]\n",
    "        print(f\"A Total of {len(temperature_files)} files read | Initiating file extraction\")\n",
    "        print(\"-------------------------------------------------------------------------------------------\")\n",
    "        n=1\n",
    "        for file in temperature_files:\n",
    "            print(f\"Extracting file {n} from a total of {len(temperature_files)} | Progress: {np.round(n/len(temperature_files)*100,2)}%       \", end = \"\\r\")\n",
    "            file_path = os.path.join(temperature_path,file)\n",
    "            extraction_df = pd.read_csv(file_path, \n",
    "                                        header = 8,\n",
    "                                        sep = ';',\n",
    "                                        encoding = 'latin-1')\n",
    "            \n",
    "\n",
    "            extraction_df['datetime'] = extraction_df['Data'] + \" \" + extraction_df['Hora UTC']\n",
    "\n",
    "            extraction_df['datetime'] = pd.to_datetime(extraction_df['datetime'], format = '%Y/%m/%d %H%M %Z')\n",
    "            \n",
    "            str_file_list = file.split(\"_\")\n",
    "\n",
    "            region = str_file_list[1]\n",
    "            state = str_file_list[2]\n",
    "            city = str_file_list[4]\n",
    "\n",
    "            extraction_df = extraction_df[[\"datetime\",\"TEMPERATURA DO AR - BULBO SECO, HORARIA (°C)\"]]\n",
    "\n",
    "            extraction_df['region'] = region\n",
    "            extraction_df['state'] = state\n",
    "            extraction_df['city'] = city\n",
    "\n",
    "            extraction_df = extraction_df.rename(columns={\"TEMPERATURA DO AR - BULBO SECO, HORARIA (°C)\": \"temperature\"})\n",
    "\n",
    "            dataframe_list.append(extraction_df)\n",
    "            n+=1\n",
    "    df_raw = pd.concat(dataframe_list)\n",
    "\n",
    "    return(df_raw)\n"
   ]
  },
  {
   "cell_type": "code",
   "execution_count": 3,
   "metadata": {},
   "outputs": [],
   "source": [
    "def temperature_processing(df_raw:pd.DataFrame)->pd.DataFrame:\n",
    "\n",
    "    df_raw['temperature'] = df_raw['temperature'].replace(\",\",\".\", regex = True)\n",
    "    df_raw['temperature'] = df_raw['temperature'].astype(float)\n",
    "    \n",
    "    df_raw = df_raw[['datetime','temperature']]\n",
    "    df_grouped = df_raw.groupby('datetime').mean().reset_index()\n",
    "    \n",
    "    return(df_grouped)\n",
    "    "
   ]
  },
  {
   "cell_type": "code",
   "execution_count": 17,
   "metadata": {},
   "outputs": [],
   "source": [
    "def load_extraction(path:str)-> pd.DataFrame:\n",
    "\n",
    "    df_list = []\n",
    "    print(\"-------------------------------------------------------------------------------------------\")\n",
    "    print(f'Reading data')\n",
    "    print(\"-------------------------------------------------------------------------------------------\")\n",
    "    \n",
    "\n",
    "    load_files = [file for file in os.listdir(path) if os.path.isfile(os.path.join(path,file))]\n",
    "    print(f\"A Total of {len(load_files)} files read | Initiating file extraction\")\n",
    "    print(\"-------------------------------------------------------------------------------------------\")\n",
    "    n=1\n",
    "    for file in load_files:\n",
    "        print(f\"Extracting file {n} from a total of {len(load_files)} | Progress: {np.round(n/len(load_files)*100,2)}%       \", end = \"\\r\")\n",
    "        \n",
    "\n",
    "        file_path = os.path.join(path,file)\n",
    "        df_extraction = pd.read_csv(file_path, sep = \";\")\n",
    "\n",
    "        df_list.append(df_extraction)\n",
    "        n+=1\n",
    "    df_raw = pd.concat(df_list)\n",
    "\n",
    "    return(df_raw)"
   ]
  },
  {
   "cell_type": "code",
   "execution_count": 13,
   "metadata": {},
   "outputs": [],
   "source": [
    "def load_processing(df_raw:pd.DataFrame)-> pd.DataFrame:\n",
    "\n",
    "    df_raw = df_raw.rename(columns = {'din_instante': 'datetime',\n",
    "                          'nom_subsistema':'sub',\n",
    "                          'val_cargaenergiahomwmed':'carga_sub',\n",
    "                          'id_subsistema':'id_sub'} )\n",
    "    \n",
    "    df_raw  = df_raw .pivot_table(index = [\"datetime\"], columns=[\"id_sub\"], values = \"carga_sub\")\n",
    "    df_raw.reset_index(inplace = True)\n",
    "    \n",
    "    df_raw['datetime'] = pd.to_datetime(df_raw['datetime'])\n",
    "\n",
    "    \n",
    "    #Summing all coluns to reach total load\n",
    "    sub_markets =  df_raw.select_dtypes(include=['float64', 'int64']).columns.to_list()\n",
    "    df_raw['total_load'] = df_raw[sub_markets].sum(axis = 1)\n",
    "    df_raw.head()\n",
    "\n",
    "    df_processed = df_raw.drop(columns = sub_markets, axis = 1)\n",
    "\n",
    "    return(df_processed)"
   ]
  },
  {
   "cell_type": "code",
   "execution_count": 21,
   "metadata": {},
   "outputs": [
    {
     "name": "stdout",
     "output_type": "stream",
     "text": [
      "-------------------------------------------------------------------------------------------\n",
      "Reading data\n",
      "-------------------------------------------------------------------------------------------\n",
      "A Total of 3 files read | Initiating file extraction\n",
      "-------------------------------------------------------------------------------------------\n",
      "Extracting file 3 from a total of 3 | Progress: 100.0%       \r"
     ]
    }
   ],
   "source": [
    "load_path = \"/mnt/e/github/load-forecast/01.database/raw/load\"\n",
    "df_raw = load_extraction(path = load_path)\n",
    "df_processed = load_processing(df_raw = df_raw)\n",
    "\n",
    "df_processed.to_csv(f\"/mnt/e/github/load-forecast/01.database/processed/load/{2021}_{2023}_load_processed.csv\")"
   ]
  },
  {
   "cell_type": "code",
   "execution_count": 4,
   "metadata": {},
   "outputs": [
    {
     "name": "stdout",
     "output_type": "stream",
     "text": [
      "---------------------------------\n",
      "Reading data from year 2022\n",
      "---------------------------------\n",
      "Files Read | Initiating file extraction\n",
      "---------------------------------\n",
      "---------------------------------of 567 | Progress: 100.0%       \n",
      "Reading data from year 2023\n",
      "---------------------------------\n",
      "Files Read | Initiating file extraction\n",
      "---------------------------------\n",
      "Extracting file 567 from a total of 567 | Progress: 100.0%       \r"
     ]
    }
   ],
   "source": [
    "path = \"/mnt/e/github/load-forecast/01.database/raw/temperature\"\n",
    "df_list = []\n",
    "year_list = [2022,2023]\n",
    "\n",
    "df_raw = temperature_extraction(path = path, years = year_list)\n",
    "df_grouped = temperature_processing(df_raw = df_raw)\n",
    "\n",
    "df_grouped.to_csv(f\"/mnt/e/github/load-forecast/01.database/processed/temperature/{year_list[0]}_{year_list[1]}_temperature_processed.csv\")"
   ]
  }
 ],
 "metadata": {
  "kernelspec": {
   "display_name": "conda3.11",
   "language": "python",
   "name": "python3"
  },
  "language_info": {
   "codemirror_mode": {
    "name": "ipython",
    "version": 3
   },
   "file_extension": ".py",
   "mimetype": "text/x-python",
   "name": "python",
   "nbconvert_exporter": "python",
   "pygments_lexer": "ipython3",
   "version": "3.12.0"
  }
 },
 "nbformat": 4,
 "nbformat_minor": 2
}
